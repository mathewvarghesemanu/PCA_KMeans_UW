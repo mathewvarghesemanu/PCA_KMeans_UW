{
 "cells": [
  {
   "cell_type": "markdown",
   "metadata": {
    "id": "Z_LRanfFLDav"
   },
   "source": [
    "## **Homework 1** Problem 1"
   ]
  },
  {
   "cell_type": "code",
   "execution_count": 1,
   "metadata": {
    "id": "2862HRnVLHSo"
   },
   "outputs": [],
   "source": [
    "%matplotlib inline"
   ]
  },
  {
   "cell_type": "code",
   "execution_count": 2,
   "metadata": {
    "colab": {
     "base_uri": "https://localhost:8080/"
    },
    "id": "xyzwvLSOoNky",
    "outputId": "f49fccd6-6257-4f82-e0e1-c1aebc0d7e6b"
   },
   "outputs": [
    {
     "name": "stdout",
     "output_type": "stream",
     "text": [
      "Fri Oct 15 03:40:45 2021       \n",
      "+-----------------------------------------------------------------------------+\n",
      "| NVIDIA-SMI 471.11       Driver Version: 471.11       CUDA Version: 11.4     |\n",
      "|-------------------------------+----------------------+----------------------+\n",
      "| GPU  Name            TCC/WDDM | Bus-Id        Disp.A | Volatile Uncorr. ECC |\n",
      "| Fan  Temp  Perf  Pwr:Usage/Cap|         Memory-Usage | GPU-Util  Compute M. |\n",
      "|                               |                      |               MIG M. |\n",
      "|===============================+======================+======================|\n",
      "|   0  NVIDIA GeForce ... WDDM  | 00000000:07:00.0  On |                  N/A |\n",
      "| 60%   36C    P8     7W / 100W |    863MiB /  4096MiB |     14%      Default |\n",
      "|                               |                      |                  N/A |\n",
      "+-------------------------------+----------------------+----------------------+\n",
      "                                                                               \n",
      "+-----------------------------------------------------------------------------+\n",
      "| Processes:                                                                  |\n",
      "|  GPU   GI   CI        PID   Type   Process name                  GPU Memory |\n",
      "|        ID   ID                                                   Usage      |\n",
      "|=============================================================================|\n",
      "|    0   N/A  N/A      1552    C+G   Insufficient Permissions        N/A      |\n",
      "|    0   N/A  N/A      3896    C+G   Insufficient Permissions        N/A      |\n",
      "|    0   N/A  N/A      4940    C+G   C:\\Windows\\explorer.exe         N/A      |\n",
      "|    0   N/A  N/A      5068    C+G   Insufficient Permissions        N/A      |\n",
      "|    0   N/A  N/A      6396    C+G   ...TeamViewer\\TeamViewer.exe    N/A      |\n",
      "|    0   N/A  N/A      6596    C+G   Insufficient Permissions        N/A      |\n",
      "|    0   N/A  N/A      7152    C+G   Insufficient Permissions        N/A      |\n",
      "|    0   N/A  N/A      7728    C+G   Insufficient Permissions        N/A      |\n",
      "|    0   N/A  N/A      8308    C+G   Insufficient Permissions        N/A      |\n",
      "|    0   N/A  N/A      8380    C+G   ...artMenuExperienceHost.exe    N/A      |\n",
      "|    0   N/A  N/A      9660    C+G   Insufficient Permissions        N/A      |\n",
      "|    0   N/A  N/A     10480    C+G   Insufficient Permissions        N/A      |\n",
      "|    0   N/A  N/A     11432    C+G   ...kyb3d8bbwe\\Calculator.exe    N/A      |\n",
      "|    0   N/A  N/A     12128    C+G   ...p-2.9.4\\GitHubDesktop.exe    N/A      |\n",
      "|    0   N/A  N/A     12348    C+G   Insufficient Permissions        N/A      |\n",
      "|    0   N/A  N/A     12848    C+G   Insufficient Permissions        N/A      |\n",
      "|    0   N/A  N/A     14912    C+G   Insufficient Permissions        N/A      |\n",
      "|    0   N/A  N/A     16308    C+G   ...icePlugin\\SelfService.exe    N/A      |\n",
      "|    0   N/A  N/A     17792    C+G   Insufficient Permissions        N/A      |\n",
      "|    0   N/A  N/A     17872    C+G   Insufficient Permissions        N/A      |\n",
      "|    0   N/A  N/A     18448    C+G   Insufficient Permissions        N/A      |\n",
      "|    0   N/A  N/A     18548    C+G   ...lPanel\\SystemSettings.exe    N/A      |\n",
      "|    0   N/A  N/A     19984    C+G   ...bbwe\\Microsoft.Photos.exe    N/A      |\n",
      "|    0   N/A  N/A     20260    C+G   Insufficient Permissions        N/A      |\n",
      "|    0   N/A  N/A     21428    C+G   ...wekyb3d8bbwe\\Music.UI.exe    N/A      |\n",
      "|    0   N/A  N/A     21580    C+G   ...5n1h2txyewy\\SearchApp.exe    N/A      |\n",
      "|    0   N/A  N/A     21664    C+G   ...ekyb3d8bbwe\\YourPhone.exe    N/A      |\n",
      "|    0   N/A  N/A     22148    C+G   ...5n1h2txyewy\\SearchApp.exe    N/A      |\n",
      "|    0   N/A  N/A     22840    C+G   ...y\\ShellExperienceHost.exe    N/A      |\n",
      "|    0   N/A  N/A     22984    C+G   ...s\\PowerToys\\PowerToys.exe    N/A      |\n",
      "|    0   N/A  N/A     24160    C+G   ...nputApp\\TextInputHost.exe    N/A      |\n",
      "|    0   N/A  N/A     24356    C+G   ...ram Files\\LGHUB\\lghub.exe    N/A      |\n",
      "|    0   N/A  N/A     24936    C+G   ...wekyb3d8bbwe\\Video.UI.exe    N/A      |\n",
      "|    0   N/A  N/A     25060    C+G   ...ropbox\\Client\\Dropbox.exe    N/A      |\n",
      "|    0   N/A  N/A     25900    C+G   ...Browser\\CtxWebBrowser.exe    N/A      |\n",
      "|    0   N/A  N/A     26052    C+G   ...me\\Application\\chrome.exe    N/A      |\n",
      "|    0   N/A  N/A     26996    C+G   ...b3d8bbwe\\WinStore.App.exe    N/A      |\n",
      "+-----------------------------------------------------------------------------+\n"
     ]
    }
   ],
   "source": [
    "!nvidia-smi"
   ]
  },
  {
   "cell_type": "markdown",
   "metadata": {
    "id": "_UnzKwFZXBow"
   },
   "source": [
    "### (a) Prepare MNIST dataset\n",
    "\n",
    "Download MNIST dataset `mnist.mat` from Canvas and put into your Google Drive.\n",
    "Mount your Google Drive to this notebook."
   ]
  },
  {
   "cell_type": "code",
   "execution_count": 3,
   "metadata": {
    "colab": {
     "base_uri": "https://localhost:8080/"
    },
    "id": "Zz6Q1adZL3kU",
    "outputId": "ae51b40b-d024-46ab-8afe-cd696f5cbb22"
   },
   "outputs": [],
   "source": [
    "##mounting google drive\n",
    "# from google.colab import drive\n",
    "# drive.mount('/content/gdrive')"
   ]
  },
  {
   "cell_type": "markdown",
   "metadata": {
    "id": "RmAN2QJyLDax"
   },
   "source": [
    "Load MNIST dataset from your Google Drive. "
   ]
  },
  {
   "cell_type": "code",
   "execution_count": 5,
   "metadata": {
    "colab": {
     "base_uri": "https://localhost:8080/"
    },
    "id": "Al08q_GmLDax",
    "outputId": "3458742b-a3f7-4789-dd1c-0c40685a4cb5"
   },
   "outputs": [
    {
     "name": "stdout",
     "output_type": "stream",
     "text": [
      "(50000, 784)\n",
      "(50000,)\n",
      "(10000, 784)\n",
      "(10000,)\n",
      "(10000, 784)\n"
     ]
    }
   ],
   "source": [
    "from scipy.io import loadmat\n",
    "# mnist = loadmat('/content/gdrive/My Drive/CV2HW/mnist.mat')\n",
    "mnist = loadmat('mnist.mat')\n",
    "\n",
    "# loading data and splitting to train,validation and test sets\n",
    "traindata = mnist['traindata'][:50000]\n",
    "trainlabels = mnist['trainlabels'].ravel()[:50000]\n",
    "validdata = mnist['traindata'][50000:]\n",
    "validlabels = mnist['trainlabels'].ravel()[50000:]\n",
    "testdata = mnist['testdata']\n",
    "print(traindata.shape)\n",
    "print(trainlabels.shape)\n",
    "print(validdata.shape)\n",
    "print(validlabels.shape)\n",
    "print(testdata.shape)\n",
    "\n",
    "#giving alias to train,validation and test data\n",
    "#convention: Train and test data is used to tune the model and get parameters, validation data is used for testing generalisation\n",
    "x_train=traindata\n",
    "y_train=trainlabels\n",
    "x_test=validdata\n",
    "y_test=validlabels\n",
    "x_val=testdata"
   ]
  },
  {
   "cell_type": "markdown",
   "metadata": {
    "id": "Jjj79ZkVLDa0"
   },
   "source": [
    "The training data (images) are contained in a matrix called `mnist['traindata']` with labels called `mnist['trainlabels']`. The testing data are in `mnist['testdata']`.\n",
    "\n",
    "Visualize an image with label."
   ]
  },
  {
   "cell_type": "code",
   "execution_count": 7,
   "metadata": {
    "colab": {
     "base_uri": "https://localhost:8080/",
     "height": 699
    },
    "id": "xbRf0yp5LDa1",
    "outputId": "f8caf4d9-4f37-485c-f191-fea12c2ffb4d"
   },
   "outputs": [
    {
     "data": {
      "image/png": "[encoded data removed]",
      "text/plain": [
       "<Figure size 864x864 with 25 Axes>"
      ]
     },
     "metadata": {
      "needs_background": "light"
     },
     "output_type": "display_data"
    }
   ],
   "source": [
    "#visualising mnist data\n",
    "import matplotlib.pyplot as plt\n",
    "from matplotlib import cm\n",
    "\n",
    "fig, axs = plt.subplots(5, 5, figsize = (12, 12))\n",
    "plt.gray()\n",
    "\n",
    "# loop through subplots and add mnist images\n",
    "for i, ax in enumerate(axs.flat):\n",
    "  ax.imshow(traindata[i].reshape((28, 28)), cmap=cm.gray_r)\n",
    "  ax.axis('off')\n",
    "  ax.set_title('Number {}'.format(trainlabels[i]))"
   ]
  },
  {
   "cell_type": "markdown",
   "metadata": {
    "id": "6FpdjBqX0CdW"
   },
   "source": [
    "### (b) PCA"
   ]
  },
  {
   "cell_type": "markdown",
   "metadata": {
    "id": "Zk6rTUxsSuFK"
   },
   "source": [
    "Implement PCA on the whole MNIST dataset and reduce the data dimension from 784 to a smaller value. "
   ]
  },
  {
   "cell_type": "markdown",
   "metadata": {},
   "source": [
    "here, standardscalar is used to standardise the data fed into PCA"
   ]
  },
  {
   "cell_type": "code",
   "execution_count": 21,
   "metadata": {},
   "outputs": [
    {
     "data": {
      "text/plain": [
       "(50000, 784)"
      ]
     },
     "execution_count": 21,
     "metadata": {},
     "output_type": "execute_result"
    }
   ],
   "source": [
    "from sklearn.preprocessing import StandardScaler\n",
    "\n",
    "x_train = mnist['traindata'][:50000]\n",
    "y_train = mnist['trainlabels'][:50000]\n",
    "x_test = mnist['traindata'][50000:]\n",
    "y_test = mnist['trainlabels'][50000:]\n",
    "testdata = mnist['testdata']\n",
    "\n",
    "scaler=StandardScaler()\n",
    "scaler.fit(x_train)\n",
    "x_train=scaler.transform(x_train)\n",
    "x_test=scaler.transform(x_test)\n",
    "x_train.shape"
   ]
  },
  {
   "cell_type": "markdown",
   "metadata": {},
   "source": [
    "Implementing PCA"
   ]
  },
  {
   "cell_type": "code",
   "execution_count": 12,
   "metadata": {
    "colab": {
     "base_uri": "https://localhost:8080/"
    },
    "id": "bWjJdHZG0F-E",
    "outputId": "efa69b52-05b8-459a-a304-00fb808b7d48",
    "scrolled": true
   },
   "outputs": [
    {
     "data": {
      "text/plain": [
       "(50000, 148)"
      ]
     },
     "execution_count": 12,
     "metadata": {},
     "output_type": "execute_result"
    }
   ],
   "source": [
    "from sklearn.decomposition import PCA\n",
    "pca=PCA(.8) # taking data that accounts to 80 percent of variance\n",
    "x_train = pca.fit_transform(x_train) #fitting PCA and transformin x_train\n",
    "x_test=pca.transform(x_test) #transforming x_test\n",
    "x_train.shape\n"
   ]
  },
  {
   "cell_type": "code",
   "execution_count": 15,
   "metadata": {
    "id": "u7QyPOQareVD"
   },
   "outputs": [
    {
     "data": {
      "text/plain": [
       "[<matplotlib.lines.Line2D at 0x252824bd6a0>]"
      ]
     },
     "execution_count": 15,
     "metadata": {},
     "output_type": "execute_result"
    },
    {
     "data": {
      "image/png": "[encoded data removed]",
      "text/plain": [
       "<Figure size 432x288 with 1 Axes>"
      ]
     },
     "metadata": {
      "needs_background": "light"
     },
     "output_type": "display_data"
    }
   ],
   "source": [
    "import numpy as np\n",
    "plt.plot(range(148),np.cumsum(pca.explained_variance_ratio_))\n"
   ]
  },
  {
   "cell_type": "markdown",
   "metadata": {},
   "source": [
    "We can see that 80 percent of the information is contained in 144 input features"
   ]
  },
  {
   "cell_type": "markdown",
   "metadata": {
    "id": "RBZHwoByDFD2"
   },
   "source": [
    "**Please type your answers for the discussion questions here.**"
   ]
  },
  {
   "cell_type": "markdown",
   "metadata": {
    "id": "OPFkM0VSz1A9"
   },
   "source": [
    "## **Homework 1** Problem 2"
   ]
  },
  {
   "cell_type": "markdown",
   "metadata": {
    "id": "2JoFL1hjwvrW"
   },
   "source": [
    "### (a) $k$-Nearest Neighbor Classifier (Supervised Learning)\n",
    "\n",
    "Implement the $k$-nearest neighbor classifier with Euclidean distance on the MNIST dataset.\n"
   ]
  },
  {
   "cell_type": "code",
   "execution_count": 23,
   "metadata": {
    "id": "aNcGCDAaHM6F"
   },
   "outputs": [],
   "source": [
    "from sklearn.neighbors import KNeighborsClassifier\n",
    "def knn(traindata, trainlabels, testdata, k=1,n_jobs=-1):\n",
    "  model=KNeighborsClassifier(n_neighbors=k)\n",
    "  model.fit(traindata,trainlabels)\n",
    "  preds=model.predict(testdata)\n",
    "  return preds"
   ]
  },
  {
   "cell_type": "markdown",
   "metadata": {
    "id": "mniSGFkfVTZL"
   },
   "source": [
    "Evaluate the performance by classification accuracy on validation set with different number of training data."
   ]
  },
  {
   "cell_type": "code",
   "execution_count": 24,
   "metadata": {
    "colab": {
     "base_uri": "https://localhost:8080/"
    },
    "id": "wKV5DoPqt7F7",
    "outputId": "8d84411d-2a29-41ff-e9a3-10c44607e126"
   },
   "outputs": [
    {
     "name": "stdout",
     "output_type": "stream",
     "text": [
      "1000\n",
      "2000\n",
      "5000\n",
      "10000\n",
      "20000\n",
      "50000\n",
      "accuracies for n= [1000, 2000, 5000, 10000, 20000, 50000]  are [0.8886, 0.9149, 0.9361, 0.9511, 0.9613, 0.9712]\n"
     ]
    }
   ],
   "source": [
    "import random\n",
    "from sklearn.metrics import accuracy_score\n",
    "\n",
    "n_entries = [1000, 2000, 5000, 10000, 20000, 50000]\n",
    "raw_accuracies=[]\n",
    "for n_sel in n_entries:\n",
    "  print(n_sel)\n",
    "  # randomly select training entries\n",
    "  sel = random.sample(range(50000), n_sel)\n",
    "  y_pred=knn(traindata[sel], trainlabels[sel].ravel(), validdata, 1)\n",
    "  acc_score=accuracy_score(validlabels,y_pred)\n",
    "  raw_accuracies.append(acc_score)\n",
    "print(\"accuracies for n=\",n_entries,\" are\",raw_accuracies)"
   ]
  },
  {
   "cell_type": "code",
   "execution_count": 29,
   "metadata": {
    "colab": {
     "base_uri": "https://localhost:8080/",
     "height": 283
    },
    "id": "3PhsvQIf92tN",
    "outputId": "38aa743f-d24f-4360-ae7d-c175925891d6"
   },
   "outputs": [
    {
     "data": {
      "text/plain": [
       "[<matplotlib.lines.Line2D at 0x25282937780>]"
      ]
     },
     "execution_count": 29,
     "metadata": {},
     "output_type": "execute_result"
    },
    {
     "data": {
      "image/png": "[encoded data removed]",
      "text/plain": [
       "<Figure size 432x288 with 1 Axes>"
      ]
     },
     "metadata": {
      "needs_background": "light"
     },
     "output_type": "display_data"
    }
   ],
   "source": [
    "plt.xlabel(\"entries\")\n",
    "plt.ylabel(\"accuracy\")\n",
    "plt.title(\"Learning curve\")\n",
    "plt.plot(n_entries,raw_accuracies)"
   ]
  },
  {
   "cell_type": "code",
   "execution_count": 26,
   "metadata": {
    "colab": {
     "base_uri": "https://localhost:8080/"
    },
    "id": "_6Ob1R1j2176",
    "outputId": "a834ef24-03d9-41b1-e58a-2a93efbe3b4f"
   },
   "outputs": [
    {
     "data": {
      "text/plain": [
       "[0.7062, 0.7042, 0.5969, 0.7423, 0.7287, 0.7479]"
      ]
     },
     "execution_count": 26,
     "metadata": {},
     "output_type": "execute_result"
    }
   ],
   "source": [
    "import random\n",
    "\n",
    "n_entries = [1000, 2000, 5000, 10000, 20000, 50000]\n",
    "pca_accuracies=[]\n",
    "for n_sel in n_entries:\n",
    "  # randomly select training entries\n",
    "  sel = random.sample(range(50000), n_sel)\n",
    "  y_pred=knn(x_train[sel], y_train[sel].ravel(), x_test, 1)\n",
    "\n",
    "  # TODO: run k-NN using pca data\n",
    "  \n",
    "  # TODO: evaluate classification accuracy\n",
    "  acc_score=accuracy_score(y_test,y_pred)\n",
    "  pca_accuracies.append(acc_score)\n",
    "\n",
    "pca_accuracies"
   ]
  },
  {
   "cell_type": "markdown",
   "metadata": {
    "id": "xyXVTMm7xkd0"
   },
   "source": [
    "Draw the learning curve."
   ]
  },
  {
   "cell_type": "code",
   "execution_count": 27,
   "metadata": {
    "colab": {
     "base_uri": "https://localhost:8080/",
     "height": 167
    },
    "id": "298OwqMOwEVB",
    "outputId": "9d15773f-ac4e-4f65-852c-c5b5f5a48224"
   },
   "outputs": [
    {
     "data": {
      "text/plain": [
       "[<matplotlib.lines.Line2D at 0x2b2a795b5f8>]"
      ]
     },
     "execution_count": 27,
     "metadata": {},
     "output_type": "execute_result"
    },
    {
     "data": {
      "image/png": "[encoded data removed]",
      "text/plain": [
       "<Figure size 432x288 with 1 Axes>"
      ]
     },
     "metadata": {
      "needs_background": "light"
     },
     "output_type": "display_data"
    }
   ],
   "source": [
    "plt.plot(n_entries,pca_accuracies)\n"
   ]
  },
  {
   "cell_type": "markdown",
   "metadata": {
    "id": "zIrMTi_bxpp6"
   },
   "source": [
    "Evaluate the classification accuracy with different hyperparamter $k$."
   ]
  },
  {
   "cell_type": "code",
   "execution_count": 32,
   "metadata": {
    "id": "osB2s9Zjwp5Y"
   },
   "outputs": [
    {
     "name": "stdout",
     "output_type": "stream",
     "text": [
      "1\n",
      "2\n",
      "3\n",
      "4\n",
      "5\n",
      "6\n",
      "7\n",
      "8\n",
      "9\n",
      "10\n",
      "11\n",
      "12\n",
      "13\n",
      "14\n",
      "15\n",
      "16\n",
      "17\n",
      "18\n",
      "19\n",
      "20\n",
      "21\n",
      "22\n",
      "23\n",
      "24\n",
      "25\n",
      "26\n",
      "27\n",
      "28\n",
      "29\n",
      "30\n",
      "31\n",
      "32\n",
      "33\n",
      "34\n",
      "35\n",
      "36\n",
      "37\n",
      "38\n",
      "39\n",
      "40\n",
      "41\n",
      "42\n",
      "43\n",
      "44\n",
      "45\n",
      "46\n",
      "47\n",
      "48\n",
      "49\n",
      "50\n",
      "51\n",
      "52\n",
      "53\n",
      "54\n",
      "55\n",
      "56\n",
      "57\n",
      "58\n",
      "59\n",
      "60\n",
      "61\n",
      "62\n",
      "63\n",
      "64\n",
      "65\n",
      "66\n",
      "67\n",
      "68\n",
      "69\n",
      "70\n",
      "71\n",
      "72\n",
      "73\n",
      "74\n",
      "75\n",
      "76\n",
      "77\n",
      "78\n",
      "79\n",
      "80\n",
      "81\n",
      "82\n",
      "83\n",
      "84\n",
      "85\n",
      "86\n",
      "87\n",
      "88\n",
      "89\n",
      "90\n",
      "91\n",
      "92\n",
      "93\n",
      "94\n",
      "95\n",
      "96\n",
      "97\n",
      "98\n",
      "99\n",
      "after hyperparameter tuning, best performance is given by k=33\n"
     ]
    }
   ],
   "source": [
    "import random\n",
    "\n",
    "k_accuracies=dict()\n",
    "k_list=range(1,100)\n",
    "for k in k_list:\n",
    "  print(k)\n",
    "  y_pred=knn(x_train, y_train.ravel(), x_test, k)\n",
    "  \n",
    "  \n",
    "  # TODO: evaluate classification accuracy\n",
    "  acc_score=accuracy_score(y_test,y_pred)\n",
    "  k_accuracies[k]=acc_score\n",
    "max_k = max(k_accuracies, key=k_accuracies.get)\n",
    "print(\"after hyperparameter tuning, best performance is given by k={}\".format(max_k))"
   ]
  },
  {
   "cell_type": "code",
   "execution_count": 33,
   "metadata": {},
   "outputs": [
    {
     "data": {
      "text/plain": [
       "[0.7479,\n",
       " 0.7331,\n",
       " 0.7711,\n",
       " 0.7833,\n",
       " 0.8015,\n",
       " 0.8038,\n",
       " 0.811,\n",
       " 0.8151,\n",
       " 0.8192,\n",
       " 0.8216,\n",
       " 0.8241,\n",
       " 0.8248,\n",
       " 0.8251,\n",
       " 0.8256,\n",
       " 0.8268,\n",
       " 0.8288,\n",
       " 0.8305,\n",
       " 0.8312,\n",
       " 0.8309,\n",
       " 0.8329,\n",
       " 0.833,\n",
       " 0.8319,\n",
       " 0.8337,\n",
       " 0.8328,\n",
       " 0.8347,\n",
       " 0.8335,\n",
       " 0.8342,\n",
       " 0.8329,\n",
       " 0.8353,\n",
       " 0.8354,\n",
       " 0.8341,\n",
       " 0.835,\n",
       " 0.8369,\n",
       " 0.836,\n",
       " 0.8361,\n",
       " 0.836,\n",
       " 0.8356,\n",
       " 0.8351,\n",
       " 0.8342,\n",
       " 0.8342,\n",
       " 0.8345,\n",
       " 0.8359,\n",
       " 0.835,\n",
       " 0.8361,\n",
       " 0.8356,\n",
       " 0.8358,\n",
       " 0.8351,\n",
       " 0.8344,\n",
       " 0.8342,\n",
       " 0.8332,\n",
       " 0.8335,\n",
       " 0.8344,\n",
       " 0.8331,\n",
       " 0.8328,\n",
       " 0.8327,\n",
       " 0.8338,\n",
       " 0.8326,\n",
       " 0.8339,\n",
       " 0.8335,\n",
       " 0.8334,\n",
       " 0.8326,\n",
       " 0.8318,\n",
       " 0.833,\n",
       " 0.8314,\n",
       " 0.8322,\n",
       " 0.8319,\n",
       " 0.8324,\n",
       " 0.8322,\n",
       " 0.8324,\n",
       " 0.8325,\n",
       " 0.8315,\n",
       " 0.832,\n",
       " 0.8314,\n",
       " 0.8324,\n",
       " 0.8318,\n",
       " 0.8319,\n",
       " 0.8314,\n",
       " 0.8323,\n",
       " 0.8322,\n",
       " 0.8319,\n",
       " 0.8306,\n",
       " 0.8308,\n",
       " 0.8301,\n",
       " 0.8302,\n",
       " 0.8302,\n",
       " 0.8315,\n",
       " 0.8309,\n",
       " 0.8311,\n",
       " 0.8305,\n",
       " 0.8311,\n",
       " 0.8311,\n",
       " 0.8307,\n",
       " 0.8316,\n",
       " 0.8303,\n",
       " 0.8307,\n",
       " 0.8299,\n",
       " 0.8303,\n",
       " 0.8304,\n",
       " 0.83]"
      ]
     },
     "execution_count": 33,
     "metadata": {},
     "output_type": "execute_result"
    }
   ],
   "source": [
    "list(k_accuracies.values())\n"
   ]
  },
  {
   "cell_type": "code",
   "execution_count": 34,
   "metadata": {},
   "outputs": [
    {
     "data": {
      "text/plain": [
       "[<matplotlib.lines.Line2D at 0x2b2a45865f8>]"
      ]
     },
     "execution_count": 34,
     "metadata": {},
     "output_type": "execute_result"
    },
    {
     "data": {
      "image/png": "[encoded data removed]",
      "text/plain": [
       "<Figure size 432x288 with 1 Axes>"
      ]
     },
     "metadata": {
      "needs_background": "light"
     },
     "output_type": "display_data"
    }
   ],
   "source": [
    "\n",
    "plt.plot(k_list,list(k_accuracies.values()))\n"
   ]
  },
  {
   "cell_type": "markdown",
   "metadata": {
    "id": "soYY4LyEz3te"
   },
   "source": [
    "**Please type your answers for the discussion questions here.**"
   ]
  },
  {
   "cell_type": "markdown",
   "metadata": {
    "id": "f-tMTee1KhKh"
   },
   "source": [
    "### (b) $k$-means Clustering (Unsupervised Learning)"
   ]
  },
  {
   "cell_type": "markdown",
   "metadata": {
    "id": "KGzjJXjszUCZ"
   },
   "source": [
    "Implement $k$-Means clustering algorithm and report classification accuracies."
   ]
  },
  {
   "cell_type": "code",
   "execution_count": 31,
   "metadata": {
    "id": "HI0DY2RFR8MH"
   },
   "outputs": [
    {
     "name": "stdout",
     "output_type": "stream",
     "text": [
      "49\n"
     ]
    },
    {
     "data": {
      "text/plain": [
       "array([2, 1, 0, 2, 0])"
      ]
     },
     "execution_count": 31,
     "metadata": {},
     "output_type": "execute_result"
    }
   ],
   "source": [
    "n_cluster = 10\n",
    "from sklearn.cluster import KMeans\n",
    "kmeans = KMeans(init=\"random\", n_clusters=3,n_init=10,max_iter=300,random_state=42)\n",
    "# TODO: fit kmeans model\n",
    "kmeans.fit(x_train)\n",
    "# TODO: show real digit distribution in each cluster\n",
    "print(kmeans.n_iter_)\n",
    "kmeans.labels_[:5]\n",
    "# TODO: evaluate accuracy\n"
   ]
  },
  {
   "cell_type": "markdown",
   "metadata": {
    "id": "x0ZkEmom_AcC"
   },
   "source": [
    "Improve the clustering performance by using different $k$ and adding splitting and grouping strategies."
   ]
  },
  {
   "cell_type": "code",
   "execution_count": null,
   "metadata": {
    "id": "kMpobH06_Tz-"
   },
   "outputs": [],
   "source": []
  },
  {
   "cell_type": "markdown",
   "metadata": {
    "id": "_FI8QZQhGJ8T"
   },
   "source": [
    "Infer $k$-Means results on the testing set. Evaluate performance."
   ]
  },
  {
   "cell_type": "code",
   "execution_count": null,
   "metadata": {
    "id": "4n4sjmG9GDo1"
   },
   "outputs": [],
   "source": []
  },
  {
   "cell_type": "markdown",
   "metadata": {
    "id": "aSjVqUklz__c"
   },
   "source": [
    "**Please type your answers for the discussion questions here.**"
   ]
  },
  {
   "cell_type": "markdown",
   "metadata": {
    "id": "gsOEhNpuzhlg"
   },
   "source": [
    "### (c) Discussion"
   ]
  },
  {
   "cell_type": "markdown",
   "metadata": {
    "id": "B5mnAUaZznS2"
   },
   "source": [
    "**Please type your answers for the discussion questions here.**"
   ]
  }
 ],
 "metadata": {
  "accelerator": "GPU",
  "colab": {
   "collapsed_sections": [],
   "name": "HW1_P1P2.ipynb",
   "provenance": []
  },
  "kernelspec": {
   "display_name": "Python 3",
   "language": "python",
   "name": "python3"
  },
  "language_info": {
   "codemirror_mode": {
    "name": "ipython",
    "version": 3
   },
   "file_extension": ".py",
   "mimetype": "text/x-python",
   "name": "python",
   "nbconvert_exporter": "python",
   "pygments_lexer": "ipython3",
   "version": "3.6.12"
  }
 },
 "nbformat": 4,
 "nbformat_minor": 1
}
