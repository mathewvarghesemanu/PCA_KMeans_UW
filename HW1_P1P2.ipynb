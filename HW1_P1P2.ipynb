{
 "cells": [
  {
   "cell_type": "markdown",
   "metadata": {
    "id": "Z_LRanfFLDav"
   },
   "source": [
    "## **Homework 1** Problem 1"
   ]
  },
  {
   "cell_type": "code",
   "execution_count": 32,
   "metadata": {
    "id": "2862HRnVLHSo"
   },
   "outputs": [],
   "source": [
    "%matplotlib inline"
   ]
  },
  {
   "cell_type": "code",
   "execution_count": 33,
   "metadata": {
    "colab": {
     "base_uri": "https://localhost:8080/"
    },
    "id": "xyzwvLSOoNky",
    "outputId": "f49fccd6-6257-4f82-e0e1-c1aebc0d7e6b"
   },
   "outputs": [
    {
     "name": "stdout",
     "output_type": "stream",
     "text": [
      "Fri Oct 15 05:34:04 2021       \n",
      "+-----------------------------------------------------------------------------+\n",
      "| NVIDIA-SMI 471.11       Driver Version: 471.11       CUDA Version: 11.4     |\n",
      "|-------------------------------+----------------------+----------------------+\n",
      "| GPU  Name            TCC/WDDM | Bus-Id        Disp.A | Volatile Uncorr. ECC |\n",
      "| Fan  Temp  Perf  Pwr:Usage/Cap|         Memory-Usage | GPU-Util  Compute M. |\n",
      "|                               |                      |               MIG M. |\n",
      "|===============================+======================+======================|\n",
      "|   0  NVIDIA GeForce ... WDDM  | 00000000:07:00.0  On |                  N/A |\n",
      "| 60%   36C    P8     8W / 100W |    838MiB /  4096MiB |      1%      Default |\n",
      "|                               |                      |                  N/A |\n",
      "+-------------------------------+----------------------+----------------------+\n",
      "                                                                               \n",
      "+-----------------------------------------------------------------------------+\n",
      "| Processes:                                                                  |\n",
      "|  GPU   GI   CI        PID   Type   Process name                  GPU Memory |\n",
      "|        ID   ID                                                   Usage      |\n",
      "|=============================================================================|\n",
      "|    0   N/A  N/A      1552    C+G   Insufficient Permissions        N/A      |\n",
      "|    0   N/A  N/A      3896    C+G   Insufficient Permissions        N/A      |\n",
      "|    0   N/A  N/A      4940    C+G   C:\\Windows\\explorer.exe         N/A      |\n",
      "|    0   N/A  N/A      5068    C+G   Insufficient Permissions        N/A      |\n",
      "|    0   N/A  N/A      6396    C+G   ...TeamViewer\\TeamViewer.exe    N/A      |\n",
      "|    0   N/A  N/A      6596    C+G   Insufficient Permissions        N/A      |\n",
      "|    0   N/A  N/A      7152    C+G   Insufficient Permissions        N/A      |\n",
      "|    0   N/A  N/A      7728    C+G   Insufficient Permissions        N/A      |\n",
      "|    0   N/A  N/A      8308    C+G   Insufficient Permissions        N/A      |\n",
      "|    0   N/A  N/A      8380    C+G   ...artMenuExperienceHost.exe    N/A      |\n",
      "|    0   N/A  N/A      9660    C+G   Insufficient Permissions        N/A      |\n",
      "|    0   N/A  N/A     10480    C+G   Insufficient Permissions        N/A      |\n",
      "|    0   N/A  N/A     11432    C+G   ...kyb3d8bbwe\\Calculator.exe    N/A      |\n",
      "|    0   N/A  N/A     12128    C+G   ...p-2.9.4\\GitHubDesktop.exe    N/A      |\n",
      "|    0   N/A  N/A     12348    C+G   Insufficient Permissions        N/A      |\n",
      "|    0   N/A  N/A     12848    C+G   Insufficient Permissions        N/A      |\n",
      "|    0   N/A  N/A     14912    C+G   Insufficient Permissions        N/A      |\n",
      "|    0   N/A  N/A     16308    C+G   ...icePlugin\\SelfService.exe    N/A      |\n",
      "|    0   N/A  N/A     17792    C+G   Insufficient Permissions        N/A      |\n",
      "|    0   N/A  N/A     17872    C+G   Insufficient Permissions        N/A      |\n",
      "|    0   N/A  N/A     18448    C+G   Insufficient Permissions        N/A      |\n",
      "|    0   N/A  N/A     18548    C+G   ...lPanel\\SystemSettings.exe    N/A      |\n",
      "|    0   N/A  N/A     19984    C+G   ...bbwe\\Microsoft.Photos.exe    N/A      |\n",
      "|    0   N/A  N/A     20260    C+G   Insufficient Permissions        N/A      |\n",
      "|    0   N/A  N/A     21428    C+G   ...wekyb3d8bbwe\\Music.UI.exe    N/A      |\n",
      "|    0   N/A  N/A     21580    C+G   ...5n1h2txyewy\\SearchApp.exe    N/A      |\n",
      "|    0   N/A  N/A     21664    C+G   ...ekyb3d8bbwe\\YourPhone.exe    N/A      |\n",
      "|    0   N/A  N/A     22148    C+G   ...5n1h2txyewy\\SearchApp.exe    N/A      |\n",
      "|    0   N/A  N/A     22840    C+G   ...y\\ShellExperienceHost.exe    N/A      |\n",
      "|    0   N/A  N/A     22984    C+G   ...s\\PowerToys\\PowerToys.exe    N/A      |\n",
      "|    0   N/A  N/A     24160    C+G   ...nputApp\\TextInputHost.exe    N/A      |\n",
      "|    0   N/A  N/A     24356    C+G   ...ram Files\\LGHUB\\lghub.exe    N/A      |\n",
      "|    0   N/A  N/A     24936    C+G   ...wekyb3d8bbwe\\Video.UI.exe    N/A      |\n",
      "|    0   N/A  N/A     25060    C+G   ...ropbox\\Client\\Dropbox.exe    N/A      |\n",
      "|    0   N/A  N/A     25900    C+G   ...Browser\\CtxWebBrowser.exe    N/A      |\n",
      "|    0   N/A  N/A     26052    C+G   ...me\\Application\\chrome.exe    N/A      |\n",
      "|    0   N/A  N/A     26996    C+G   ...b3d8bbwe\\WinStore.App.exe    N/A      |\n",
      "+-----------------------------------------------------------------------------+\n"
     ]
    }
   ],
   "source": [
    "!nvidia-smi"
   ]
  },
  {
   "cell_type": "markdown",
   "metadata": {
    "id": "_UnzKwFZXBow"
   },
   "source": [
    "### (a) Prepare MNIST dataset\n",
    "\n",
    "Download MNIST dataset `mnist.mat` from Canvas and put into your Google Drive.\n",
    "Mount your Google Drive to this notebook."
   ]
  },
  {
   "cell_type": "code",
   "execution_count": 34,
   "metadata": {
    "colab": {
     "base_uri": "https://localhost:8080/"
    },
    "id": "Zz6Q1adZL3kU",
    "outputId": "ae51b40b-d024-46ab-8afe-cd696f5cbb22"
   },
   "outputs": [],
   "source": [
    "##mounting google drive\n",
    "# from google.colab import drive\n",
    "# drive.mount('/content/gdrive')"
   ]
  },
  {
   "cell_type": "markdown",
   "metadata": {
    "id": "RmAN2QJyLDax"
   },
   "source": [
    "Load MNIST dataset from your Google Drive. "
   ]
  },
  {
   "cell_type": "code",
   "execution_count": 35,
   "metadata": {
    "colab": {
     "base_uri": "https://localhost:8080/"
    },
    "id": "Al08q_GmLDax",
    "outputId": "3458742b-a3f7-4789-dd1c-0c40685a4cb5"
   },
   "outputs": [
    {
     "name": "stdout",
     "output_type": "stream",
     "text": [
      "(50000, 784)\n",
      "(50000,)\n",
      "(10000, 784)\n",
      "(10000,)\n",
      "(10000, 784)\n"
     ]
    }
   ],
   "source": [
    "from scipy.io import loadmat\n",
    "# mnist = loadmat('/content/gdrive/My Drive/CV2HW/mnist.mat')\n",
    "mnist = loadmat('mnist.mat')\n",
    "\n",
    "# loading data and splitting to train,validation and test sets\n",
    "traindata = mnist['traindata'][:50000]\n",
    "trainlabels = mnist['trainlabels'].ravel()[:50000]\n",
    "validdata = mnist['traindata'][50000:]\n",
    "validlabels = mnist['trainlabels'].ravel()[50000:]\n",
    "testdata = mnist['testdata']\n",
    "testlabels=mnist['testlabels'].ravel()\n",
    "print(traindata.shape)\n",
    "print(trainlabels.shape)\n",
    "print(validdata.shape)\n",
    "print(validlabels.shape)\n",
    "print(testdata.shape)\n",
    "\n",
    "#giving alias to train,validation and test data\n"
   ]
  },
  {
   "cell_type": "markdown",
   "metadata": {
    "id": "Jjj79ZkVLDa0"
   },
   "source": [
    "The training data (images) are contained in a matrix called `mnist['traindata']` with labels called `mnist['trainlabels']`. The testing data are in `mnist['testdata']`.\n",
    "\n",
    "Visualize an image with label."
   ]
  },
  {
   "cell_type": "code",
   "execution_count": 36,
   "metadata": {
    "colab": {
     "base_uri": "https://localhost:8080/",
     "height": 699
    },
    "id": "xbRf0yp5LDa1",
    "outputId": "f8caf4d9-4f37-485c-f191-fea12c2ffb4d"
   },
   "outputs": [
    {
     "data": {
      "image/png": "[encoded data removed]",
      "text/plain": [
       "<Figure size 864x864 with 25 Axes>"
      ]
     },
     "metadata": {
      "needs_background": "light"
     },
     "output_type": "display_data"
    }
   ],
   "source": [
    "#visualising mnist data\n",
    "import matplotlib.pyplot as plt\n",
    "from matplotlib import cm\n",
    "\n",
    "fig, axs = plt.subplots(5, 5, figsize = (12, 12))\n",
    "plt.gray()\n",
    "\n",
    "# loop through subplots and add mnist images\n",
    "for i, ax in enumerate(axs.flat):\n",
    "  ax.imshow(traindata[i].reshape((28, 28)), cmap=cm.gray_r)\n",
    "  ax.axis('off')\n",
    "  ax.set_title('Number {}'.format(trainlabels[i]))"
   ]
  },
  {
   "cell_type": "markdown",
   "metadata": {
    "id": "6FpdjBqX0CdW"
   },
   "source": [
    "### (b) PCA"
   ]
  },
  {
   "cell_type": "markdown",
   "metadata": {
    "id": "Zk6rTUxsSuFK"
   },
   "source": [
    "Implement PCA on the whole MNIST dataset and reduce the data dimension from 784 to a smaller value. "
   ]
  },
  {
   "cell_type": "markdown",
   "metadata": {},
   "source": [
    "here, standardscalar is used to standardise the data fed into PCA"
   ]
  },
  {
   "cell_type": "code",
   "execution_count": 37,
   "metadata": {},
   "outputs": [
    {
     "data": {
      "text/plain": [
       "(50000, 784)"
      ]
     },
     "execution_count": 37,
     "metadata": {},
     "output_type": "execute_result"
    }
   ],
   "source": [
    "from sklearn.preprocessing import StandardScaler\n",
    "\n",
    "x_train = mnist['traindata'][:50000]\n",
    "y_train = mnist['trainlabels'][:50000]\n",
    "x_val = mnist['traindata'][50000:]\n",
    "y_val = mnist['trainlabels'][50000:]\n",
    "testdata = mnist['testdata']\n",
    "testlabels=mnist['testlabels'].ravel()\n",
    "\n",
    "scaler=StandardScaler()\n",
    "scaler.fit(x_train)\n",
    "x_train_std=scaler.transform(x_train)\n",
    "x_val_std=scaler.transform(x_val)\n",
    "x_train_std.shape"
   ]
  },
  {
   "cell_type": "markdown",
   "metadata": {},
   "source": [
    "Implementing PCA"
   ]
  },
  {
   "cell_type": "code",
   "execution_count": 38,
   "metadata": {
    "colab": {
     "base_uri": "https://localhost:8080/"
    },
    "id": "bWjJdHZG0F-E",
    "outputId": "efa69b52-05b8-459a-a304-00fb808b7d48",
    "scrolled": true
   },
   "outputs": [
    {
     "data": {
      "text/plain": [
       "(50000, 148)"
      ]
     },
     "execution_count": 38,
     "metadata": {},
     "output_type": "execute_result"
    }
   ],
   "source": [
    "from sklearn.decomposition import PCA\n",
    "pca=PCA(.8) # taking data that accounts to 80 percent of variance\n",
    "x_train_pca = pca.fit_transform(x_train_std) #fitting PCA and transformin x_train\n",
    "x_val_pca=pca.transform(x_val_std) #transforming x_test\n",
    "x_train_pca.shape\n"
   ]
  },
  {
   "cell_type": "code",
   "execution_count": 39,
   "metadata": {
    "id": "u7QyPOQareVD"
   },
   "outputs": [
    {
     "data": {
      "text/plain": [
       "[<matplotlib.lines.Line2D at 0x25d9d309128>]"
      ]
     },
     "execution_count": 39,
     "metadata": {},
     "output_type": "execute_result"
    },
    {
     "data": {
      "image/png": "[encoded data removed]",
      "text/plain": [
       "<Figure size 432x288 with 1 Axes>"
      ]
     },
     "metadata": {
      "needs_background": "light"
     },
     "output_type": "display_data"
    }
   ],
   "source": [
    "import numpy as np\n",
    "plt.plot(range(148),np.cumsum(pca.explained_variance_ratio_))\n"
   ]
  },
  {
   "cell_type": "markdown",
   "metadata": {},
   "source": [
    "We can see that 80 percent of the information is contained in 144 input features"
   ]
  },
  {
   "cell_type": "markdown",
   "metadata": {
    "id": "RBZHwoByDFD2"
   },
   "source": [
    "**Please type your answers for the discussion questions here.**"
   ]
  },
  {
   "cell_type": "markdown",
   "metadata": {
    "id": "OPFkM0VSz1A9"
   },
   "source": [
    "## **Homework 1** Problem 2"
   ]
  },
  {
   "cell_type": "markdown",
   "metadata": {
    "id": "2JoFL1hjwvrW"
   },
   "source": [
    "### (a) $k$-Nearest Neighbor Classifier (Supervised Learning)\n",
    "\n",
    "Implement the $k$-nearest neighbor classifier with Euclidean distance on the MNIST dataset.\n"
   ]
  },
  {
   "cell_type": "code",
   "execution_count": 40,
   "metadata": {
    "id": "aNcGCDAaHM6F"
   },
   "outputs": [],
   "source": [
    "from sklearn.neighbors import KNeighborsClassifier\n",
    "def knn(traindata, trainlabels, testdata, k=1,n_jobs=-1):\n",
    "  model=KNeighborsClassifier(n_neighbors=k)\n",
    "  model.fit(traindata,trainlabels)\n",
    "  preds=model.predict(testdata)\n",
    "  return preds"
   ]
  },
  {
   "cell_type": "markdown",
   "metadata": {
    "id": "mniSGFkfVTZL"
   },
   "source": [
    "Evaluate the performance by classification accuracy on validation set with different number of training data."
   ]
  },
  {
   "cell_type": "markdown",
   "metadata": {},
   "source": [
    "### KNN on raw data"
   ]
  },
  {
   "cell_type": "code",
   "execution_count": 41,
   "metadata": {
    "colab": {
     "base_uri": "https://localhost:8080/"
    },
    "id": "wKV5DoPqt7F7",
    "outputId": "8d84411d-2a29-41ff-e9a3-10c44607e126"
   },
   "outputs": [
    {
     "name": "stdout",
     "output_type": "stream",
     "text": [
      "1000\n",
      "2000\n",
      "5000\n",
      "10000\n",
      "20000\n",
      "50000\n",
      "accuracies for n= [1000, 2000, 5000, 10000, 20000, 50000]  are [0.8862, 0.914, 0.9379, 0.9515, 0.962, 0.9712]\n"
     ]
    }
   ],
   "source": [
    "import random\n",
    "from sklearn.metrics import accuracy_score\n",
    "\n",
    "n_entries = [1000, 2000, 5000, 10000, 20000, 50000]\n",
    "raw_accuracies=[]\n",
    "for n_sel in n_entries:\n",
    "  print(n_sel)\n",
    "  # randomly select training entries\n",
    "  sel = random.sample(range(50000), n_sel)\n",
    "  y_pred=knn(traindata[sel], trainlabels[sel].ravel(), validdata, 1)\n",
    "  acc_score=accuracy_score(validlabels,y_pred)\n",
    "  raw_accuracies.append(acc_score)\n",
    "print(\"accuracies for n=\",n_entries,\" are\",raw_accuracies)"
   ]
  },
  {
   "cell_type": "code",
   "execution_count": 42,
   "metadata": {
    "colab": {
     "base_uri": "https://localhost:8080/",
     "height": 283
    },
    "id": "3PhsvQIf92tN",
    "outputId": "38aa743f-d24f-4360-ae7d-c175925891d6",
    "scrolled": true
   },
   "outputs": [
    {
     "data": {
      "text/plain": [
       "[<matplotlib.lines.Line2D at 0x25d9d33c400>]"
      ]
     },
     "execution_count": 42,
     "metadata": {},
     "output_type": "execute_result"
    },
    {
     "data": {
      "image/png": "[encoded data removed]",
      "text/plain": [
       "<Figure size 432x288 with 1 Axes>"
      ]
     },
     "metadata": {
      "needs_background": "light"
     },
     "output_type": "display_data"
    }
   ],
   "source": [
    "plt.xlabel(\"entries\")\n",
    "plt.ylabel(\"accuracy\")\n",
    "plt.title(\"Learning curve\")\n",
    "plt.plot(n_entries,raw_accuracies)"
   ]
  },
  {
   "cell_type": "markdown",
   "metadata": {
    "id": "zIrMTi_bxpp6"
   },
   "source": [
    "Evaluate the classification accuracy with different hyperparamter $k$."
   ]
  },
  {
   "cell_type": "code",
   "execution_count": 43,
   "metadata": {
    "id": "osB2s9Zjwp5Y"
   },
   "outputs": [
    {
     "name": "stdout",
     "output_type": "stream",
     "text": [
      "1 , 2 , 3 , 4 , 5 , 6 , 7 , 8 , 9 , 10 , 11 , 12 , 13 , 14 , 15 , 16 , 17 , 18 , 19 , 20 , 21 , 22 , 23 , 24 , after hyperparameter tuning, best performance is given by k=4\n"
     ]
    }
   ],
   "source": [
    "import random\n",
    "\n",
    "k_accuracies=dict()\n",
    "k_list=range(1,25)\n",
    "for k in k_list:\n",
    "  y_pred=knn(traindata, trainlabels.ravel(), validdata, k)\n",
    "  print(k,end=\" , \")\n",
    "  \n",
    "  # TODO: evaluate classification accuracy\n",
    "  acc_score=accuracy_score(validlabels,y_pred)\n",
    "  k_accuracies[k]=acc_score\n",
    "max_k = max(k_accuracies, key=k_accuracies.get)\n",
    "print(\"after hyperparameter tuning, best performance is given by k={}\".format(max_k))"
   ]
  },
  {
   "cell_type": "code",
   "execution_count": 44,
   "metadata": {},
   "outputs": [
    {
     "data": {
      "text/plain": [
       "[<matplotlib.lines.Line2D at 0x25d9bf66f98>]"
      ]
     },
     "execution_count": 44,
     "metadata": {},
     "output_type": "execute_result"
    },
    {
     "data": {
      "image/png": "[encoded data removed]",
      "text/plain": [
       "<Figure size 432x288 with 1 Axes>"
      ]
     },
     "metadata": {
      "needs_background": "light"
     },
     "output_type": "display_data"
    }
   ],
   "source": [
    "\n",
    "plt.plot(k_list,list(k_accuracies.values()))\n"
   ]
  },
  {
   "cell_type": "markdown",
   "metadata": {},
   "source": [
    "### KMeans Using PCA data"
   ]
  },
  {
   "cell_type": "code",
   "execution_count": 45,
   "metadata": {
    "colab": {
     "base_uri": "https://localhost:8080/"
    },
    "id": "_6Ob1R1j2176",
    "outputId": "a834ef24-03d9-41b1-e58a-2a93efbe3b4f"
   },
   "outputs": [
    {
     "data": {
      "text/plain": [
       "[0.8552, 0.8974, 0.9183, 0.9332, 0.9462, 0.9561]"
      ]
     },
     "execution_count": 45,
     "metadata": {},
     "output_type": "execute_result"
    }
   ],
   "source": [
    "# KMeans using PCA data\n",
    "import random\n",
    "n_entries = [1000, 2000, 5000, 10000, 20000, 50000]\n",
    "pca_accuracies=[]\n",
    "for n_sel in n_entries:\n",
    "  # randomly select training entries\n",
    "  sel = random.sample(range(50000), n_sel)\n",
    "  y_pred=knn(x_train_pca[sel], y_train[sel].ravel(), x_val_pca, 1)\n",
    "  acc_score=accuracy_score(y_val,y_pred)\n",
    "  pca_accuracies.append(acc_score)\n",
    "\n",
    "pca_accuracies"
   ]
  },
  {
   "cell_type": "code",
   "execution_count": 46,
   "metadata": {
    "colab": {
     "base_uri": "https://localhost:8080/",
     "height": 167
    },
    "id": "298OwqMOwEVB",
    "outputId": "9d15773f-ac4e-4f65-852c-c5b5f5a48224",
    "scrolled": true
   },
   "outputs": [
    {
     "data": {
      "text/plain": [
       "[<matplotlib.lines.Line2D at 0x25d7f4beba8>]"
      ]
     },
     "execution_count": 46,
     "metadata": {},
     "output_type": "execute_result"
    },
    {
     "data": {
      "image/png": "[encoded data removed]",
      "text/plain": [
       "<Figure size 432x288 with 1 Axes>"
      ]
     },
     "metadata": {
      "needs_background": "light"
     },
     "output_type": "display_data"
    }
   ],
   "source": [
    "plt.plot(n_entries,pca_accuracies)\n"
   ]
  },
  {
   "cell_type": "markdown",
   "metadata": {
    "id": "zIrMTi_bxpp6"
   },
   "source": [
    "Evaluate the classification accuracy with different hyperparamter $k$."
   ]
  },
  {
   "cell_type": "code",
   "execution_count": 47,
   "metadata": {
    "id": "osB2s9Zjwp5Y"
   },
   "outputs": [
    {
     "name": "stdout",
     "output_type": "stream",
     "text": [
      "1 , 2 , 3 , 4 , 5 , 6 , 7 , 8 , 9 , 10 , 11 , 12 , 13 , 14 , 15 , 16 , 17 , 18 , 19 , 20 , 21 , 22 , 23 , 24 , after hyperparameter tuning, best performance is given by k=3\n"
     ]
    }
   ],
   "source": [
    "import random\n",
    "\n",
    "k_accuracies=dict()\n",
    "k_list=range(1,25)\n",
    "for k in k_list:\n",
    "  y_pred=knn(x_train_pca, y_train.ravel(), x_val_pca, k)\n",
    "  print(k,end=\" , \")\n",
    "  \n",
    "  # TODO: evaluate classification accuracy\n",
    "  acc_score=accuracy_score(y_val,y_pred)\n",
    "  k_accuracies[k]=acc_score\n",
    "max_k = max(k_accuracies, key=k_accuracies.get)\n",
    "print(\"after hyperparameter tuning, best performance is given by k={}\".format(max_k))"
   ]
  },
  {
   "cell_type": "code",
   "execution_count": 48,
   "metadata": {},
   "outputs": [
    {
     "data": {
      "text/plain": [
       "[<matplotlib.lines.Line2D at 0x25d9bd7e908>]"
      ]
     },
     "execution_count": 48,
     "metadata": {},
     "output_type": "execute_result"
    },
    {
     "data": {
      "image/png": "[encoded data removed]",
      "text/plain": [
       "<Figure size 432x288 with 1 Axes>"
      ]
     },
     "metadata": {
      "needs_background": "light"
     },
     "output_type": "display_data"
    }
   ],
   "source": [
    "\n",
    "plt.plot(k_list,list(k_accuracies.values()))\n"
   ]
  },
  {
   "cell_type": "markdown",
   "metadata": {},
   "source": [
    "### Running classifier on test set"
   ]
  },
  {
   "cell_type": "code",
   "execution_count": 49,
   "metadata": {},
   "outputs": [
    {
     "name": "stdout",
     "output_type": "stream",
     "text": [
      "1 , 2 , 3 , 4 , 5 , 6 , 7 , 8 , 9 , 10 , 11 , 12 , 13 , 14 , 15 , 16 , 17 , 18 , 19 , 20 , 21 , 22 , 23 , 24 , after hyperparameter tuning, best performance is given by k=23 and accuracy is 0.8236\n"
     ]
    }
   ],
   "source": [
    "import random\n",
    "y_test=testlabels\n",
    "x_test_pca=pca.transform(testdata)\n",
    "k_accuracies=dict()\n",
    "k_list=range(1,25)\n",
    "for k in k_list:\n",
    "  y_pred=knn(x_train_pca, y_train.ravel(), x_test, k)\n",
    "  print(k,end=\" , \")\n",
    "  \n",
    "  # TODO: evaluate classification accuracy\n",
    "  acc_score=accuracy_score(y_test,y_pred)\n",
    "  k_accuracies[k]=acc_score\n",
    "max_k = max(k_accuracies, key=k_accuracies.get)\n",
    "print(\"after hyperparameter tuning, best performance is given by k={} and accuracy is {}\".format(max_k,k_accuracies[max_k]))"
   ]
  },
  {
   "cell_type": "code",
   "execution_count": 50,
   "metadata": {},
   "outputs": [
    {
     "data": {
      "text/plain": [
       "[<matplotlib.lines.Line2D at 0x25d7f884fd0>]"
      ]
     },
     "execution_count": 50,
     "metadata": {},
     "output_type": "execute_result"
    },
    {
     "data": {
      "image/png": "[encoded data removed]",
      "text/plain": [
       "<Figure size 432x288 with 1 Axes>"
      ]
     },
     "metadata": {
      "needs_background": "light"
     },
     "output_type": "display_data"
    }
   ],
   "source": [
    "plt.plot(k_list,list(k_accuracies.values()))\n"
   ]
  },
  {
   "cell_type": "markdown",
   "metadata": {
    "id": "soYY4LyEz3te"
   },
   "source": [
    "**Please type your answers for the discussion questions here.**"
   ]
  },
  {
   "cell_type": "markdown",
   "metadata": {
    "id": "f-tMTee1KhKh"
   },
   "source": [
    "### (b) $k$-means Clustering (Unsupervised Learning)"
   ]
  },
  {
   "cell_type": "markdown",
   "metadata": {
    "id": "KGzjJXjszUCZ"
   },
   "source": [
    "Implement $k$-Means clustering algorithm and report classification accuracies."
   ]
  },
  {
   "cell_type": "code",
   "execution_count": 51,
   "metadata": {
    "id": "HI0DY2RFR8MH"
   },
   "outputs": [
    {
     "name": "stdout",
     "output_type": "stream",
     "text": [
      "77\n"
     ]
    }
   ],
   "source": [
    "clusters = 10\n",
    "from sklearn.cluster import KMeans\n",
    "k_means = KMeans(init = \"k-means++\", n_clusters =clusters , n_init = 35)\n",
    "# TODO: fit kmeans model\n",
    "k_means.fit(x_train)\n",
    "# TODO: show real digit distribution in each cluster\n",
    "print(k_means.n_iter_)\n",
    "k_means_labels = k_means.labels_\n",
    "\n"
   ]
  },
  {
   "cell_type": "code",
   "execution_count": 52,
   "metadata": {
    "scrolled": true
   },
   "outputs": [
    {
     "data": {
      "image/png": "[encoded data removed]",
      "text/plain": [
       "<Figure size 1440x1440 with 10 Axes>"
      ]
     },
     "metadata": {
      "needs_background": "light"
     },
     "output_type": "display_data"
    }
   ],
   "source": [
    "# code from referemce : https://github.com/sunman91/Data-Science-stuff/blob/master/k-means-and-pca-on-f-mnist-dataset.ipynb\n",
    "class_names = {0:'0', 1:'1',2: '2',3: '3',4: '4',5:\n",
    "               '5',6: '6', 7:'7',8:  '8',9: '9'} #Dictionary of class names\n",
    "G = len(np.unique(k_means_labels)) #Number of labels\n",
    "#2D matrix  for an array of indexes of the given label\n",
    "cluster_index= [[] for i in range(G)]\n",
    "for i, label in enumerate(k_means_labels,0):\n",
    "    for n in range(G):\n",
    "        if label == n:\n",
    "            cluster_index[n].append(i)\n",
    "        else:\n",
    "            continue\n",
    "Y_clust = [[] for i in range(G)]\n",
    "for n in range(G):\n",
    "    Y_clust[n] = trainlabels[cluster_index[n]] #Y_clust[0] contains array of \"correct\" category from y_train for the cluster_index[0]\n",
    "    assert(len(Y_clust[n]) == len(cluster_index[n])) #dimension confirmation\n",
    "#counts the number of each category in each cluster\n",
    "def counter(cluster):\n",
    "    unique, counts = np.unique(cluster, return_counts=True)\n",
    "    label_index = dict(zip(unique, counts))\n",
    "    return label_index\n",
    "label_count= [[] for i in range(G)]\n",
    "for n in range(G):\n",
    "    label_count[n] = counter(Y_clust[n])\n",
    "\n",
    "label_count[1] #Number of items of a certain category in cluster 1\n",
    "def plotter(label_dict):\n",
    "    plt.bar(range(len(label_dict)), list(label_dict.values()), align='center')\n",
    "    a = []\n",
    "    for i in [*label_dict]: a.append(class_names[i])\n",
    "    plt.xticks(range(len(label_dict)), list(a), rotation=45, rotation_mode='anchor')\n",
    "plt.figure(figsize=(20,20))\n",
    "for i in range (1,11):\n",
    "    plt.subplot(5, 2, i)\n",
    "    plotter(label_count[i-1]) \n",
    "    plt.title(\"Cluster\" + str(i-1))"
   ]
  },
  {
   "cell_type": "markdown",
   "metadata": {},
   "source": [
    "K is even when k is 10. since we have to find nearest neighbors in any case, there would be ties when k is even. So it is better for k to be odd for getting proper results.\n",
    "K is usually set as k=sqrt(n) where n is number of classes and 10 in this case"
   ]
  },
  {
   "cell_type": "markdown",
   "metadata": {
    "id": "_FI8QZQhGJ8T"
   },
   "source": [
    "Infer $k$-Means results on the testing set. Evaluate performance."
   ]
  },
  {
   "cell_type": "code",
   "execution_count": 54,
   "metadata": {
    "id": "4n4sjmG9GDo1",
    "scrolled": false
   },
   "outputs": [
    {
     "name": "stdout",
     "output_type": "stream",
     "text": [
      " performance is given by k=9 and accuracy is 0.1597\n"
     ]
    }
   ],
   "source": [
    "import random\n",
    "y_test=testlabels\n",
    "x_test_pca=pca.transform(testdata)\n",
    "k_accuracies=dict()\n",
    "# k_list=range(1,25)\n",
    "k=9\n",
    "\n",
    "\n",
    "k_means = KMeans(init = \"k-means++\", n_clusters =k , n_init = 35)\n",
    "k_means.fit(x_train_pca)\n",
    "y_pred=k_means.predict(x_test_pca)\n",
    "# TODO: evaluate classification accuracy\n",
    "acc_score=accuracy_score(y_test,y_pred)\n",
    "k_accuracies[k]=acc_score\n",
    "\n",
    "max_k = max(k_accuracies, key=k_accuracies.get)\n",
    "print(\" performance is given by k={} and accuracy is {}\".format(max_k,k_accuracies[max_k]))"
   ]
  },
  {
   "cell_type": "markdown",
   "metadata": {},
   "source": [
    "accuracy is given and is very low because the clusters are not mapped"
   ]
  },
  {
   "cell_type": "code",
   "execution_count": 55,
   "metadata": {},
   "outputs": [],
   "source": [
    "actual_clusters={0:1,1:7,2:4,3:8,4:6,5:3,6:0,7:1,8:2,9:9}"
   ]
  },
  {
   "cell_type": "code",
   "execution_count": 58,
   "metadata": {},
   "outputs": [
    {
     "data": {
      "text/plain": [
       "0.0512"
      ]
     },
     "execution_count": 58,
     "metadata": {},
     "output_type": "execute_result"
    }
   ],
   "source": [
    "y_new=[]\n",
    "for i in y_pred:\n",
    "    y_new.append(actual_clusters[i])\n",
    "acc_score=accuracy_score(y_test,y_new)\n",
    "acc_score"
   ]
  },
  {
   "cell_type": "markdown",
   "metadata": {
    "id": "aSjVqUklz__c"
   },
   "source": [
    "**Please type your answers for the discussion questions here.**"
   ]
  },
  {
   "cell_type": "markdown",
   "metadata": {
    "id": "gsOEhNpuzhlg"
   },
   "source": [
    "### (c) Discussion"
   ]
  },
  {
   "cell_type": "markdown",
   "metadata": {
    "id": "B5mnAUaZznS2"
   },
   "source": [
    "**Please type your answers for the discussion questions here.**"
   ]
  },
  {
   "cell_type": "markdown",
   "metadata": {},
   "source": [
    "#### Supervised vs Unsupervised"
   ]
  },
  {
   "cell_type": "markdown",
   "metadata": {},
   "source": [
    "•\tSupervised Machine Learning is used when the ground truth is known.\n",
    "•\tNeeds large amount of data to learn the relationship between them as weights in a matrix and then use these relations to find where the new incoming data fits or predict where the new datapoint would be. \n",
    "•\tSince we know the ground truth, the model predicts the outcome and is able to give an accuracy score.\n",
    "•\tEg: decision tree, random forest\n",
    "•\tRegression and classification are some of the supervised machine learning techniques.\n",
    "\n",
    "\n",
    "•\tUnsupervised machine learning is used when ground truth is not known\n",
    "•\tEg: clustering, k means clustering, knn clustering\n",
    "•\tA group of seemingly similar data is fed into an unsupervised machine learning algorithm and the model groups related dsata together into clusters. Based on these clusters, a new incoming data is put into one cluster. This can be used for anomaly detection, grouping etc. For classification, labels need to be put for groups after clustering.\n"
   ]
  },
  {
   "cell_type": "markdown",
   "metadata": {},
   "source": [
    "#### How to choose hyperparameters of ML algorithm"
   ]
  },
  {
   "cell_type": "markdown",
   "metadata": {},
   "source": [
    "Different hyper parameters needs to be checked in succession or in parallel to do hyperparameter tuning. An example of this is gridsearchcv, which is a library in scikit learn that accepts parameters as lists and allows us to apply multipple parameters and take the one which reduces the loss or increases teh f1 score or as we set in the function. <br>\n",
    "This makes searching for hyperparameters very easy. <br>\n",
    "Note: Different models have different hyperparameters and the documentation should be checked to know what all parameters can be given"
   ]
  }
 ],
 "metadata": {
  "accelerator": "GPU",
  "colab": {
   "collapsed_sections": [],
   "name": "HW1_P1P2.ipynb",
   "provenance": []
  },
  "kernelspec": {
   "display_name": "Python 3",
   "language": "python",
   "name": "python3"
  },
  "language_info": {
   "codemirror_mode": {
    "name": "ipython",
    "version": 3
   },
   "file_extension": ".py",
   "mimetype": "text/x-python",
   "name": "python",
   "nbconvert_exporter": "python",
   "pygments_lexer": "ipython3",
   "version": "3.6.12"
  }
 },
 "nbformat": 4,
 "nbformat_minor": 1
}
